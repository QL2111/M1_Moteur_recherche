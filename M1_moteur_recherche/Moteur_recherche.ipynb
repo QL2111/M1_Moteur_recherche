{
 "cells": [
  {
   "cell_type": "code",
   "execution_count": 1,
   "id": "4f53cb66-b3ff-415d-bd4b-f0c78cee1d63",
   "metadata": {
    "tags": []
   },
   "outputs": [],
   "source": [
    "import ipywidgets as widgets\n"
   ]
  },
  {
   "cell_type": "code",
   "execution_count": 4,
   "id": "eeb2246d-085e-47ef-b24a-267baba6cd99",
   "metadata": {
    "tags": []
   },
   "outputs": [
    {
     "data": {
      "application/vnd.jupyter.widget-view+json": {
       "model_id": "4d53f97495c54d9f910ebd01626be28c",
       "version_major": 2,
       "version_minor": 0
      },
      "text/plain": [
       "Text(value='', description='Mot-clef:', placeholder='Type something')"
      ]
     },
     "metadata": {},
     "output_type": "display_data"
    },
    {
     "data": {
      "application/vnd.jupyter.widget-view+json": {
       "model_id": "6e1576f196a54430be9c3a82df163ec4",
       "version_major": 2,
       "version_minor": 0
      },
      "text/plain": [
       "IntText(value=7, description='Nombre de document Reddit :')"
      ]
     },
     "metadata": {},
     "output_type": "display_data"
    },
    {
     "data": {
      "application/vnd.jupyter.widget-view+json": {
       "model_id": "19ac818480794002900ba8a3e651cc54",
       "version_major": 2,
       "version_minor": 0
      },
      "text/plain": [
       "IntText(value=7, description='Nombre de document nbArticle_Arvix :')"
      ]
     },
     "metadata": {},
     "output_type": "display_data"
    }
   ],
   "source": [
    "mot_clef = widgets.Text(\n",
    "    value='',\n",
    "    placeholder='Type something',\n",
    "    description='Mot-clef:',\n",
    "    disabled=False\n",
    ")\n",
    "display(mot_clef)\n",
    "\n",
    "nbArticle_Reddit = widgets.IntText(\n",
    "    value=10,\n",
    "    description='Nombre de document Reddit :',\n",
    "    disabled=False\n",
    ")\n",
    "display(nbArticle_Reddit)\n",
    "\n",
    "nbArticle_Arvix = widgets.IntText(\n",
    "    value=10,\n",
    "    description='Nombre de document nbArticle_Arvix :',\n",
    "    disabled=False\n",
    ")\n",
    "display(nbArticle_Arvix)"
   ]
  },
  {
   "cell_type": "code",
   "execution_count": 3,
   "id": "b653b726-f9cf-4eb9-8f9a-60083a5d6a5e",
   "metadata": {
    "tags": []
   },
   "outputs": [
    {
     "name": "stdout",
     "output_type": "stream",
     "text": [
      "Test\n",
      "10\n"
     ]
    }
   ],
   "source": [
    "print(mot_clef.value)\n",
    "print(nbArticle.value)\n"
   ]
  },
  {
   "cell_type": "markdown",
   "id": "aeebeec4-447e-430c-997c-d84c5a38c159",
   "metadata": {},
   "source": []
  },
  {
   "cell_type": "markdown",
   "id": "c0d872f6",
   "metadata": {},
   "source": [
    "#### Classes :"
   ]
  },
  {
   "cell_type": "code",
   "execution_count": 23,
   "id": "2464590f",
   "metadata": {},
   "outputs": [],
   "source": [
    "import praw\n",
    "import urllib, urllib.request\n",
    "import xmltodict\n",
    "import pandas as pd\n",
    "import datetime\n",
    "import pickle\n",
    "\n",
    "\n",
    "#import de la classe Document du TD4\n",
    "from Document import Document\n",
    "#Document(Titre, Auteur, Date, Url, Texte)\n",
    "\n",
    "#import de la classe Author\n",
    "from Author import Author\n",
    "#(Name, Ndoc, Production)\n",
    "\n",
    "from Document import RedditDocument\n",
    "#Hérite de Document et contient nbCommentaire\n",
    "from Document import ArxivDocument\n",
    "#Hérite de Document et contient les co-auteurs\n",
    "from Document import DocumentFactory\n",
    "#Factory pour créer les objets Document"
   ]
  },
  {
   "cell_type": "code",
   "execution_count": 31,
   "id": "9843be5c",
   "metadata": {},
   "outputs": [
    {
     "name": "stdout",
     "output_type": "stream",
     "text": [
      "http://export.arxiv.org/api/query?search_query=all:physiology&start=0&max_results=10\n",
      "http://export.arxiv.org/api/query?search_query=all:physiology&start=0&max_results=10\n"
     ]
    }
   ],
   "source": [
    "#Test chaînes\n",
    "#reddit\n",
    "url = 'http://export.arxiv.org/api/query?search_query=all:physiology&start=0&max_results=10'\n",
    "print(url)\n",
    "urlTest = 'http://export.arxiv.org/api/query?search_query=all:'+str(mot_clef.value)+'&start=0&max_results='+str(nbArticle.value)\n",
    "print(urlTest)"
   ]
  },
  {
   "cell_type": "markdown",
   "id": "03c3fbfa",
   "metadata": {},
   "source": [
    "## Main"
   ]
  },
  {
   "cell_type": "code",
   "execution_count": 12,
   "id": "ae18f730-b408-4f7a-8e78-18575077cf18",
   "metadata": {},
   "outputs": [
    {
     "ename": "TypeError",
     "evalue": "main() takes 0 positional arguments but 2 were given",
     "output_type": "error",
     "traceback": [
      "\u001b[1;31m---------------------------------------------------------------------------\u001b[0m",
      "\u001b[1;31mTypeError\u001b[0m                                 Traceback (most recent call last)",
      "Cell \u001b[1;32mIn[12], line 2\u001b[0m\n\u001b[0;32m      1\u001b[0m \u001b[38;5;28;01mimport\u001b[39;00m \u001b[38;5;21;01mmoteur_recherche\u001b[39;00m\n\u001b[1;32m----> 2\u001b[0m moteur_recherche\u001b[38;5;241m.\u001b[39mmain(\u001b[38;5;241m2\u001b[39m,\u001b[38;5;241m2\u001b[39m)\n",
      "\u001b[1;31mTypeError\u001b[0m: main() takes 0 positional arguments but 2 were given"
     ]
    }
   ],
   "source": [
    "import moteur_recherche\n",
    "moteur_recherche.main(2,2)"
   ]
  }
 ],
 "metadata": {
  "kernelspec": {
   "display_name": "Python 3 (ipykernel)",
   "language": "python",
   "name": "python3"
  },
  "language_info": {
   "codemirror_mode": {
    "name": "ipython",
    "version": 3
   },
   "file_extension": ".py",
   "mimetype": "text/x-python",
   "name": "python",
   "nbconvert_exporter": "python",
   "pygments_lexer": "ipython3",
   "version": "3.11.5"
  }
 },
 "nbformat": 4,
 "nbformat_minor": 5
}
